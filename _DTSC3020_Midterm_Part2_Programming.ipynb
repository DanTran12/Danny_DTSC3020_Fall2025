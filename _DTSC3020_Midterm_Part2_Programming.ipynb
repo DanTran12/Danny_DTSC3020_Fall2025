{
  "cells": [
    {
      "cell_type": "markdown",
      "metadata": {
        "id": "view-in-github",
        "colab_type": "text"
      },
      "source": [
        "<a href=\"https://colab.research.google.com/github/DanTran12/Danny_DTSC3020_Fall2025/blob/main/_DTSC3020_Midterm_Part2_Programming.ipynb\" target=\"_parent\"><img src=\"https://colab.research.google.com/assets/colab-badge.svg\" alt=\"Open In Colab\"/></a>"
      ]
    },
    {
      "cell_type": "markdown",
      "id": "8e58db4f",
      "metadata": {
        "id": "8e58db4f"
      },
      "source": [
        "# DTSC 3020 — Midterm Exam (Part 2: Programming)\n",
        "University of North Texas\n",
        "\n",
        "**Course:** Introduction to Computation with Python (DTSC 3020)  \n",
        "**Exam:** Midterm — Programming (Ch. 1–8 concepts)\n",
        "\n"
      ]
    },
    {
      "cell_type": "markdown",
      "id": "ed86aaec",
      "metadata": {
        "id": "ed86aaec"
      },
      "source": [
        "---\n",
        "### Instructions\n",
        "- Write clean, readable Python code for each question.\n",
        "- Use only standard Python; no external libraries.\n",
        "- Where required, write a function and return the result.\n",
        "- After each solution cell, there is a **Part 2 — Test Scenario**. Follow the prompt to run your code.\n",
        "\n",
        "---"
      ]
    },
    {
      "cell_type": "markdown",
      "id": "227c4435",
      "metadata": {
        "id": "227c4435"
      },
      "source": [
        "## Question 1 — Create Member ID\n",
        "Write a Python function `create_member_id(full_name)` that creates a Library Member ID from a person’s full name.\n",
        "\n",
        "**Rules**\n",
        "- Normalize the name: remove extra spaces, convert to lowercase, and split by spaces.\n",
        "- Use the last word as the last name (e.g., `\"John Ronald Reuel Tolkien\"` → last name `tolkien`).\n",
        "- Use the first letters of all earlier words as initials (e.g., `jrr` for the example above).\n",
        "- Construct the member ID in this exact format: `lastname_initials` (underscore between them; no spaces).\n",
        "\n",
        "**Examples**\n",
        "- `\"Sara Amini\"` → `amini_sa`\n",
        "- `\"Mary Jane Watson\"` → `watson_mj`\n",
        "- `\"LINA\"` (single word) → use the word for both parts: `lina_l`\n",
        "\n",
        "Part 2 — Test Scenario (run using your function)\n",
        "names = [\"Sara Amini\", \"Ali\", \"Mary Jane\", \"John Smith\", \"LINA\", \"madonna\", \"sara amini\"]\n",
        "\n",
        "\n",
        "\n"
      ]
    },
    {
      "cell_type": "code",
      "execution_count": 26,
      "id": "51411a35",
      "metadata": {
        "id": "51411a35"
      },
      "outputs": [],
      "source": [
        "# Write your answer here for Q1\n",
        "def create_member_id(full_name):\n",
        "  name = full_name.lower().split()\n",
        "  ID = name[-1] +\"_\"\n",
        "  if len(name) == 1:\n",
        "    ID += name[0][0]\n",
        "  else:\n",
        "    for part in name[:-1]:\n",
        "      part.split()\n",
        "      ID += part[0]\n",
        "  return ID\n",
        "\n"
      ]
    },
    {
      "cell_type": "code",
      "execution_count": 34,
      "id": "584ae4f0",
      "metadata": {
        "id": "584ae4f0",
        "colab": {
          "base_uri": "https://localhost:8080/"
        },
        "outputId": "5be2c41a-7e39-4fd4-8b90-6adae2baaa1d"
      },
      "outputs": [
        {
          "output_type": "stream",
          "name": "stdout",
          "text": [
            "amini_s\n",
            "ali_a\n",
            "jane_m\n",
            "smith_j\n",
            "lina_l\n",
            "madonna_m\n",
            "amini_s\n"
          ]
        }
      ],
      "source": [
        "# Part 2 — Test Scenario (run using your function)\n",
        "names = [\"Sara Amini\", \"Ali\", \"Mary Jane\", \"John Smith\", \"LINA\", \"madonna\", \"sara amini\"]\n",
        "for name in names:\n",
        "  print(create_member_id(name))\n"
      ]
    },
    {
      "cell_type": "markdown",
      "id": "c1727720",
      "metadata": {
        "id": "c1727720"
      },
      "source": [
        "## Question 2 — Movie Ticket Booth\n",
        "\n",
        "Write a Python program that simulates a movie ticket booth using this price list:\n",
        "\n",
        "```python\n",
        "prices = {\"adult\": 12.5, \"child\": 8, \"senior\": 9.5, \"student\": 10}\n",
        "```\n",
        "\n",
        "**Program Requirements**\n",
        "- Repeatedly ask the user to enter a ticket type or type `done` to finish.\n",
        "- Valid inputs: `adult`, `child`, `senior`, `student`, or `done`.\n",
        "- If the ticket type exists, add its price to a running total and print a confirmation message.\n",
        "- If it doesn’t exist, print `\"Invalid ticket type\"`.\n",
        "- When the user types `done`, stop and show:\n",
        "  - **Subtotal** (sum of valid ticket prices)\n",
        "  - **Tax** = 8% of subtotal\n",
        "  - **Final total** = subtotal + tax\n"
      ]
    },
    {
      "cell_type": "code",
      "execution_count": 4,
      "id": "4b859e17",
      "metadata": {
        "id": "4b859e17",
        "colab": {
          "base_uri": "https://localhost:8080/"
        },
        "outputId": "804338d1-c19f-4124-e07b-03307dc5ca41"
      },
      "outputs": [
        {
          "output_type": "stream",
          "name": "stdout",
          "text": [
            "Enter ticket type or 'done' to finish purchases: adult\n",
            "adult : 12.5\n",
            "Enter ticket type or 'done' to finish purchases: child\n",
            "child : 8\n",
            "Enter ticket type or 'done' to finish purchases: student\n",
            "student : 10\n",
            "Enter ticket type or 'done' to finish purchases: done\n",
            "Subtotal: 30.5\n",
            "8% tax: 2.44\n",
            "Total: 32.94\n"
          ]
        }
      ],
      "source": [
        "# Write your answer here\n",
        "prices = {\"adult\": 12.5, \"child\": 8, \"senior\": 9.5, \"student\": 10}\n",
        "purchasing = True\n",
        "subtotal = 0\n",
        "while purchasing:\n",
        "  ticket_type = input(\"Enter ticket type or 'done' to finish purchases: \")\n",
        "  if ticket_type == \"done\":\n",
        "    purchasing = False\n",
        "  elif ticket_type in prices:\n",
        "    print(ticket_type, \":\", prices[ticket_type])\n",
        "    subtotal += prices[ticket_type]\n",
        "  else:\n",
        "    print(\"Invalid ticket type\")\n",
        "print(\"Subtotal:\", subtotal)\n",
        "print(\"8% tax:\", subtotal *.08)\n",
        "print(\"Total:\", (subtotal*.08)+subtotal)\n"
      ]
    },
    {
      "cell_type": "markdown",
      "id": "17b39afe",
      "metadata": {
        "id": "17b39afe"
      },
      "source": [
        "**Part 2 — Example Scenario**\n",
        "When prompted, type the following (each on a new line), then press Enter after each entry:\n",
        "\n",
        "```\n",
        "adult\n",
        "child\n",
        "student\n",
        "done\n",
        "```\n",
        "Your program should complete and display the subtotal, tax, and final total based on these entries.\n"
      ]
    },
    {
      "cell_type": "markdown",
      "id": "28c710b6",
      "metadata": {
        "id": "28c710b6"
      },
      "source": [
        "## Question 3 — Student Grade Analyzer\n",
        "\n",
        "Write a Python function `analyze_grades(grades)` that takes a list of numbers (0–100) and returns three values:\n",
        "1. average grade\n",
        "2. highest grade\n",
        "3. lowest grade\n",
        "\n",
        "**Constraints**\n",
        "- Use a function and return statement(s).\n",
        "- Do not use external libraries.\n"
      ]
    },
    {
      "cell_type": "code",
      "execution_count": 9,
      "id": "efce3052",
      "metadata": {
        "id": "efce3052"
      },
      "outputs": [],
      "source": [
        "# Write your answer here for Q3\n",
        "def analyze_grades(grades):\n",
        "  average = round(sum(grades)/len(grades),0)\n",
        "  highest = max(grades)\n",
        "  lowest = min(grades)\n",
        "  print(\"Average Grade:\", average)\n",
        "  print(\"Highest Grade:\", highest)\n",
        "  print(\"Lowest Grade:\", lowest)\n",
        "  return\n"
      ]
    },
    {
      "cell_type": "code",
      "execution_count": 10,
      "id": "ad2b0d29",
      "metadata": {
        "id": "ad2b0d29",
        "colab": {
          "base_uri": "https://localhost:8080/"
        },
        "outputId": "dd1e414a-54a7-4db8-f7b4-123757a975c5"
      },
      "outputs": [
        {
          "output_type": "stream",
          "name": "stdout",
          "text": [
            "Average Grade: 86.0\n",
            "Highest Grade: 93\n",
            "Lowest Grade: 72\n"
          ]
        }
      ],
      "source": [
        "# Part 2 — Test Scenario\n",
        "sample = [88, 92, 79, 93, 85, 90, 72]\n",
        "analyze_grades(sample)"
      ]
    },
    {
      "cell_type": "markdown",
      "id": "d378f3c3",
      "metadata": {
        "id": "d378f3c3"
      },
      "source": [
        "## Question 4 — PIN Verification\n",
        "Write a Python program that simulates an ATM PIN verification system.\n",
        "\n",
        "**Requirements**\n",
        "- The correct PIN is `4321`.\n",
        "- The user has at most **3 attempts** to enter the correct PIN.\n",
        "- If the PIN is correct: print `Access granted.` and stop.\n",
        "- If all 3 attempts fail: print `Card blocked.`\n",
        "- After each wrong attempt, also print the counter in the form `Wrong (x/3)`.\n"
      ]
    },
    {
      "cell_type": "code",
      "execution_count": 18,
      "id": "5ea085a2",
      "metadata": {
        "id": "5ea085a2",
        "colab": {
          "base_uri": "https://localhost:8080/"
        },
        "outputId": "a891c106-a5ce-4216-8992-14daa6a12fed"
      },
      "outputs": [
        {
          "output_type": "stream",
          "name": "stdout",
          "text": [
            "Please enter pin: 1111\n",
            "Wrong, attempts used: 1/3\n",
            "Please enter pin: 2222\n",
            "Wrong, attempts used: 2/3\n",
            "Please enter pin: 4321\n",
            "Access granted\n"
          ]
        }
      ],
      "source": [
        "# Write your answer here\n",
        "attempts = 0\n",
        "while attempts < 3:\n",
        "  password = input(\"Please enter pin: \")\n",
        "  if password == \"4321\":\n",
        "    print(\"Access granted\")\n",
        "    break\n",
        "  else:\n",
        "    attempts += 1\n",
        "    print(\"Wrong, attempts used:\", str(attempts) + \"/3\")\n",
        "if attempts == 3:\n",
        "  print(\"Card has been blocked\")\n"
      ]
    },
    {
      "cell_type": "markdown",
      "id": "1c61e343",
      "metadata": {
        "id": "1c61e343"
      },
      "source": [
        "**Part 2 — Test Scenario**\n",
        "Run your program and, when prompted, enter these sequences to verify both behaviors:\n",
        "\n",
        "**Scenario A**\n",
        "```\n",
        "1111\n",
        "2222\n",
        "4321\n",
        "```\n",
        "\n",
        "\n"
      ]
    }
  ],
  "metadata": {
    "kernelspec": {
      "display_name": "Python 3",
      "language": "python",
      "name": "python3"
    },
    "language_info": {
      "name": "python",
      "version": "3.x"
    },
    "colab": {
      "provenance": [],
      "include_colab_link": true
    }
  },
  "nbformat": 4,
  "nbformat_minor": 5
}