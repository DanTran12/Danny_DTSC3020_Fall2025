{
  "nbformat": 4,
  "nbformat_minor": 0,
  "metadata": {
    "colab": {
      "provenance": [],
      "authorship_tag": "ABX9TyNyozbxCY7PKuHXeWl97CTQ",
      "include_colab_link": true
    },
    "kernelspec": {
      "name": "python3",
      "display_name": "Python 3"
    },
    "language_info": {
      "name": "python"
    }
  },
  "cells": [
    {
      "cell_type": "markdown",
      "metadata": {
        "id": "view-in-github",
        "colab_type": "text"
      },
      "source": [
        "<a href=\"https://colab.research.google.com/github/DanTran12/Danny_DTSC3020_Fall2025/blob/main/Assignment_2.ipynb\" target=\"_parent\"><img src=\"https://colab.research.google.com/assets/colab-badge.svg\" alt=\"Open In Colab\"/></a>"
      ]
    },
    {
      "cell_type": "code",
      "execution_count": 18,
      "metadata": {
        "colab": {
          "base_uri": "https://localhost:8080/"
        },
        "id": "XHWGHXNnJbR-",
        "outputId": "0ac17e31-91c0-4b2a-aefa-23e7843f87a5"
      },
      "outputs": [
        {
          "output_type": "stream",
          "name": "stdout",
          "text": [
            "Apple\n",
            "Orange\n",
            "Pear\n",
            "['Dylan', 'Joel', 'Cody', 'James']\n",
            "['Plane', 'Car', 'Bus', 'Bike', 'Cart', 'Skateboard']\n",
            "['Candy', 'Fruits', 'Bread', 'Meats', 'Vegetables']\n",
            "['Dallas', 'Denton', 'Forth Worth', 'Irving']\n",
            "['Irving', 'Forth Worth', 'Denton', 'Dallas']\n",
            "cat\n",
            "dog\n",
            "bird\n",
            "2\n",
            "4\n",
            "6\n",
            "8\n",
            "10\n",
            "['Alex', 'Cody', 'Gabriel']\n",
            "['Anna', 'Chelsea', 'Tyler']\n",
            "[1, 2, 3, 4, 5, 6, 7, 8, 9, 10]\n",
            "[1, 4, 9, 16, 25]\n"
          ]
        }
      ],
      "source": [
        "#Part 1\n",
        "fruits = [\"Apple\",\"Orange\",\"Pear\"]\n",
        "print(fruits[0])\n",
        "print(fruits[1])\n",
        "print(fruits[2])\n",
        "#Part 2\n",
        "Names = [\"Alex\",\"Joel\",\"Cody\",\"James\"]\n",
        "Names[0]=\"Dylan\"\n",
        "print(Names)\n",
        "#Part 3\n",
        "Vehicles = [\"Plane\",\"Car\",\"Bus\",\"Bike\",\"Cart\"]\n",
        "Vehicles.append(\"Skateboard\")\n",
        "print(Vehicles)\n",
        "#Part 4\n",
        "foods = [\"Candy\",\"Fruits\",\"Pasta\",\"Bread\",\"Meats\",\"Vegetables\"]\n",
        "foods.remove(\"Pasta\")\n",
        "print(foods)\n",
        "#Part 5\n",
        "cities= [\"Dallas\",\"Forth Worth\",\"Irving\",\"Denton\"]\n",
        "cities.sort()\n",
        "print(cities)\n",
        "cities.sort(reverse=True)\n",
        "print(cities)\n",
        "#Part 6\n",
        "animals = [\"cat\",\"dog\",\"bird\"]\n",
        "for animal in animals:\n",
        "  print(animal)\n",
        "#Part 7\n",
        "numbers = [1,2,3,4,5]\n",
        "for number in numbers:\n",
        "  num_times_2 = number*2\n",
        "  print(num_times_2)\n",
        "#Part 8\n",
        "friends = [\"Alex\",\"Cody\",\"Gabriel\",\"Anna\",\"Chelsea\",\"Tyler\"]\n",
        "print(friends[0:3])\n",
        "print(friends[3:7])\n",
        "#Part 9\n",
        "one_to_ten = list(range(1,11))\n",
        "print(one_to_ten)\n",
        "#Part 10\n",
        "squares = [num**2 for num in range(1,6)]\n",
        "print(squares)"
      ]
    },
    {
      "cell_type": "code",
      "source": [],
      "metadata": {
        "id": "AUTVVO2peH9F"
      },
      "execution_count": null,
      "outputs": []
    }
  ]
}