{
  "nbformat": 4,
  "nbformat_minor": 0,
  "metadata": {
    "colab": {
      "provenance": [],
      "authorship_tag": "ABX9TyMh06JzcH8QACBCHEZna+CM",
      "include_colab_link": true
    },
    "kernelspec": {
      "name": "python3",
      "display_name": "Python 3"
    },
    "language_info": {
      "name": "python"
    }
  },
  "cells": [
    {
      "cell_type": "markdown",
      "metadata": {
        "id": "view-in-github",
        "colab_type": "text"
      },
      "source": [
        "<a href=\"https://colab.research.google.com/github/DanTran12/Danny_DTSC3020_Fall2025/blob/main/class_exercise_1.ipynb\" target=\"_parent\"><img src=\"https://colab.research.google.com/assets/colab-badge.svg\" alt=\"Open In Colab\"/></a>"
      ]
    },
    {
      "cell_type": "code",
      "execution_count": 9,
      "metadata": {
        "colab": {
          "base_uri": "https://localhost:8080/"
        },
        "id": "inud0dYmP0Uw",
        "outputId": "0856eb94-b264-416c-b47c-5a3a772ba620"
      },
      "outputs": [
        {
          "output_type": "stream",
          "name": "stdout",
          "text": [
            "Hello World\n",
            "HI\n",
            "Good Afternoon, Danny\n"
          ]
        }
      ],
      "source": [
        "print(\"Hello World\");\n",
        "print(\"HI\");\n",
        "name= \"Danny\";\n",
        "print(\"Good Afternoon,\", name);\n"
      ]
    }
  ]
}