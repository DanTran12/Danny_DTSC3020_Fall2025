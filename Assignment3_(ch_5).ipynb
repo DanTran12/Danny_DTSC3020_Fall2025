{
  "cells": [
    {
      "cell_type": "markdown",
      "metadata": {
        "id": "view-in-github",
        "colab_type": "text"
      },
      "source": [
        "<a href=\"https://colab.research.google.com/github/DanTran12/Danny_DTSC3020_Fall2025/blob/main/Assignment3_(ch_5).ipynb\" target=\"_parent\"><img src=\"https://colab.research.google.com/assets/colab-badge.svg\" alt=\"Open In Colab\"/></a>"
      ]
    },
    {
      "cell_type": "markdown",
      "metadata": {
        "id": "nevCG4Qs0b8R"
      },
      "source": [
        "# DTSC 3020 – Assignment 3\n",
        "\n",
        "This exercise focuses on **if statements and conditional logic** in Python and is designed to help students practice decision-making structures.\n",
        "\n",
        "**Total points:** 5  \n",
        "**Deadline:** Friday at midnight  \n",
        "**Submission:** Upload your Python file to your GitHub repository and submit **only your GitHub link**.\n",
        "\n",
        "### Expectations\n",
        "- Write complete answers and run all cells before submission.\n",
        "- Keep the notebook clean (no unnecessary code).\n",
        "\n"
      ],
      "id": "nevCG4Qs0b8R"
    },
    {
      "cell_type": "markdown",
      "metadata": {
        "id": "gfumj0DY0b8f"
      },
      "source": [
        "## Question 1 – Movie Ticket System\n",
        "Write a Python code that checks the price of a movie ticket.\n",
        "If the age is between 0 and 11 it is Child, if between 12 and 17 it is Teen, and if 18 or older it is Adult.\n",
        "Print the category and the ticket price (you choose the price).\n",
        "Run the program with age = 16."
      ],
      "id": "gfumj0DY0b8f"
    },
    {
      "cell_type": "code",
      "metadata": {
        "id": "67TGDT6w0b8k",
        "colab": {
          "base_uri": "https://localhost:8080/"
        },
        "outputId": "6ed3ffec-ba1e-4ec0-838e-39b6659e78fa"
      },
      "execution_count": 4,
      "outputs": [
        {
          "output_type": "stream",
          "name": "stdout",
          "text": [
            "Teen Pricing: $12\n"
          ]
        }
      ],
      "source": [
        "# write your answer here\n",
        "age = 16\n",
        "if age < 12:\n",
        "  print(\"Child Pricing: $10\")\n",
        "elif age < 18:\n",
        "  print(\"Teen Pricing: $12\")\n",
        "else:\n",
        "  print(\"Adult Pricing: $15\")"
      ],
      "id": "67TGDT6w0b8k"
    },
    {
      "cell_type": "markdown",
      "metadata": {
        "id": "_tUFNVKT0b8r"
      },
      "source": [
        "## Question 2 – Online Store Discount\n",
        "Write a Python code that applies a discount based on the shopping cart total.\n",
        "If the total is less than 50 dollars there is no discount, if the total is between 50 and 99 dollars there is a 10 percent discount, and if the total is 100 dollars or more there is a 20 percent discount.\n",
        "Print the original total, the discount, and the final price.\n",
        "Run the program with cart_total = 85."
      ],
      "id": "_tUFNVKT0b8r"
    },
    {
      "cell_type": "code",
      "metadata": {
        "id": "yTtX719o0b8v",
        "colab": {
          "base_uri": "https://localhost:8080/"
        },
        "outputId": "fd12bd02-7c8c-4c4a-bb16-a577290dfa64"
      },
      "execution_count": 6,
      "outputs": [
        {
          "output_type": "stream",
          "name": "stdout",
          "text": [
            "Cart total: 85, 10% Discount for over 50 dollars spent\n",
            "New total: 76.5\n"
          ]
        }
      ],
      "source": [
        "# write your answer here\n",
        "cart_total = 85\n",
        "if cart_total < 50:\n",
        "  print(\"Cart total: \" + str(cart_total) + \", No Discount\")\n",
        "elif cart_total < 100:\n",
        "  print(\"Cart total: \" + str(cart_total) + \", 10% Discount for over 50 dollars spent\")\n",
        "  new_total = cart_total*.9\n",
        "  print(\"New total: \" + str(new_total))\n",
        "else:\n",
        "  print(\"cart total: \" + str(cart_total) + \", 20% Discount for over 100 dollars spent\")\n",
        "  new_total = cart_total*.8\n",
        "  print(\"New total: \" + str(new_total))"
      ],
      "id": "yTtX719o0b8v"
    },
    {
      "cell_type": "markdown",
      "metadata": {
        "id": "uOUYYC870b8x"
      },
      "source": [
        "## Question 3 – Exam Grading\n",
        "Write a Python code that gives a letter grade for a score.\n",
        "If the score is between 90 and 100 the grade is A, if between 80 and 89 the grade is B, if between 70 and 79 the grade is C, if between 60 and 69 the grade is D, and if below 60 the grade is F.\n",
        "Print the grade and a short message.\n",
        "Run the program with score = 73."
      ],
      "id": "uOUYYC870b8x"
    },
    {
      "cell_type": "code",
      "metadata": {
        "id": "HDtf_YLG0b8y",
        "colab": {
          "base_uri": "https://localhost:8080/"
        },
        "outputId": "32e7feba-e313-4d6f-e737-a3870007ae3a"
      },
      "execution_count": 14,
      "outputs": [
        {
          "output_type": "stream",
          "name": "stdout",
          "text": [
            "Grade: C, passed but increase study time\n"
          ]
        }
      ],
      "source": [
        "# write your answer here\n",
        "score = 73\n",
        "if score < 60:\n",
        "  print(\"Grade: F, study and re-take exam\")\n",
        "elif score < 70:\n",
        "  print(\"Grade: D, study and remediate missed questions\")\n",
        "elif score < 80:\n",
        "  print(\"Grade: C, passed but increase study time\")\n",
        "elif score < 90:\n",
        "  print(\"Grade: B, good job!\")\n",
        "elif score <= 100:\n",
        "  print(\"Grade: A, Excellent Job!\")"
      ],
      "id": "HDtf_YLG0b8y"
    },
    {
      "cell_type": "markdown",
      "metadata": {
        "id": "ZCIKM6Xs0b80"
      },
      "source": [
        "## Question 4 – Parking Fee\n",
        "Write a Python code that calculates parking fees.\n",
        "If the car is parked for 0 to 2 hours the parking is free, if the car is parked for 3 to 5 hours the fee is 3 dollars per hour, and if the car is parked for more than 5 hours the fee is 3 dollars per hour for the first three hours after free and then 5 dollars per hour for the rest.\n",
        "Print the number of hours and the total fee.\n",
        "Run the program with hours = 6."
      ],
      "id": "ZCIKM6Xs0b80"
    },
    {
      "cell_type": "code",
      "metadata": {
        "id": "g3a_sPo50b81",
        "colab": {
          "base_uri": "https://localhost:8080/"
        },
        "outputId": "3a3e53ef-5f14-4ace-8b17-0ccd86b755dd"
      },
      "execution_count": 19,
      "outputs": [
        {
          "output_type": "stream",
          "name": "stdout",
          "text": [
            "Hours: 6\n",
            "Parking Fee: \n",
            "5-8hrs: $3/hr, 9hrs+: $5/hr\n",
            "Total Fee: 18\n"
          ]
        }
      ],
      "source": [
        "# write your answer here\n",
        "hours = 6\n",
        "if hours < 3:\n",
        "  print(\"Hours: \" +str(hours))\n",
        "  print(\"Parking Fee: $0/hr\")\n",
        "  print(\"Total Fee: $0\")\n",
        "elif hours <= 5:\n",
        "  print(\"Hours: \" + str(hours))\n",
        "  print(\"Parking Fee: $3/hr\")\n",
        "  print(\"Total Fee: \" + str(hours*3))\n",
        "else:\n",
        "  print(\"Hours: \" + str(hours))\n",
        "  print(\"Parking Fee: \")\n",
        "  print(\"5-8hrs: $3/hr, 9hrs+: $5/hr\")\n",
        "  if hours <= 8:\n",
        "    print(\"Total Fee: \" + str(hours*3))\n",
        "  else:\n",
        "    print(\"Total Fee: \" + str(24 + (hours-8)*5))"
      ],
      "id": "g3a_sPo50b81"
    },
    {
      "cell_type": "markdown",
      "metadata": {
        "id": "XBf0-SPz0b83"
      },
      "source": [
        "## Question 5 – Cafeteria Menu\n",
        "Write a Python code that creates a list with three food items.\n",
        "Check if an order is in the list.\n",
        "If the item is in the list print a confirmation, and if the item is not in the list print a polite message.\n",
        "Run the program with menu = ['pizza','salad','sandwich'] and order = 'salad'."
      ],
      "id": "XBf0-SPz0b83"
    },
    {
      "cell_type": "code",
      "metadata": {
        "id": "y52UEMoX0b85",
        "colab": {
          "base_uri": "https://localhost:8080/"
        },
        "outputId": "2de19137-eed8-45f7-b62a-5195183c3984"
      },
      "execution_count": 41,
      "outputs": [
        {
          "output_type": "stream",
          "name": "stdout",
          "text": [
            "One salad coming up!\n"
          ]
        }
      ],
      "source": [
        "# write your answer here\n",
        "menu = ['pizza', 'salad', 'sandwich']\n",
        "order = 'salad'\n",
        "if order in menu:\n",
        "  print(\"One \" + order + \" coming up!\")\n",
        "else:\n",
        "  print(\"Sorry, we do not have \" + order + \" on the menu right now\")"
      ],
      "id": "y52UEMoX0b85"
    },
    {
      "cell_type": "markdown",
      "metadata": {
        "id": "-60rL71F0b86"
      },
      "source": [
        "## Question 6 – Job Application Filter\n",
        "Write a Python code that checks if a person is eligible for a job.\n",
        "If the person is older than 22 and has more than 2 years of experience print Accepted.\n",
        "Otherwise print Not Accepted.\n",
        "Run the program with age = 23 and experience = 1."
      ],
      "id": "-60rL71F0b86"
    },
    {
      "cell_type": "code",
      "metadata": {
        "id": "-h964CqY0b88",
        "colab": {
          "base_uri": "https://localhost:8080/"
        },
        "outputId": "53639eaa-cf5e-4823-ec8e-88cff000237b"
      },
      "execution_count": 25,
      "outputs": [
        {
          "output_type": "stream",
          "name": "stdout",
          "text": [
            "Not Accepted\n"
          ]
        }
      ],
      "source": [
        "# write your answer here\n",
        "age= 23\n",
        "experience = 1\n",
        "if age > 22 and experience > 2:\n",
        "  print(\"Accepted\")\n",
        "else:\n",
        "  print(\"Not Accepted\")"
      ],
      "id": "-h964CqY0b88"
    },
    {
      "cell_type": "markdown",
      "metadata": {
        "id": "MOMMxnuE0b8-"
      },
      "source": [
        "## Question 7 – Clothing Advice\n",
        "Write a Python code that suggests clothing based on the temperature.\n",
        "If the temperature is below 10 print Coat and gloves, if the temperature is between 10 and 19 print Jacket, and if the temperature is 20 or more print T-shirt.\n",
        "Run the program with temperature = 15."
      ],
      "id": "MOMMxnuE0b8-"
    },
    {
      "cell_type": "code",
      "metadata": {
        "id": "V6RtrCOa0b8_",
        "colab": {
          "base_uri": "https://localhost:8080/"
        },
        "outputId": "bea3c653-afb8-4177-afad-f1399063f2ba"
      },
      "execution_count": 29,
      "outputs": [
        {
          "output_type": "stream",
          "name": "stdout",
          "text": [
            "Wear a Jakcet\n"
          ]
        }
      ],
      "source": [
        "# write your answer here\n",
        "temp = 15\n",
        "if temp < 10:\n",
        "  print(\"Weat a coat and gloves\")\n",
        "elif temp < 20:\n",
        "  print(\"Wear a Jakcet\")\n",
        "else:\n",
        "  print(\"Wear a t-shirt\")"
      ],
      "id": "V6RtrCOa0b8_"
    },
    {
      "cell_type": "markdown",
      "metadata": {
        "id": "R-i9Jzpn0b9A"
      },
      "source": [
        "## Question 8 – Loan Eligibility\n",
        "Write a Python code that checks loan eligibility.\n",
        "If the salary is at least 3000 and the credit score is at least 650 print Loan Approved, otherwise print Loan Denied.\n",
        "Run the program with salary = 3500 and credit_score = 640."
      ],
      "id": "R-i9Jzpn0b9A"
    },
    {
      "cell_type": "code",
      "metadata": {
        "id": "2M0s0bC40b9B",
        "colab": {
          "base_uri": "https://localhost:8080/"
        },
        "outputId": "244e0a78-e707-438e-cfd7-1d4f423078b4"
      },
      "execution_count": 52,
      "outputs": [
        {
          "output_type": "stream",
          "name": "stdout",
          "text": [
            "Loan Denied\n"
          ]
        }
      ],
      "source": [
        "# write your answer here\n",
        "salary = 3500\n",
        "credit_score = 640\n",
        "if salary >= 3000 and credit_score >= 650:\n",
        "  print(\"Approved Loan\")\n",
        "else:\n",
        "  print(\"Loan Denied\")"
      ],
      "id": "2M0s0bC40b9B"
    },
    {
      "cell_type": "markdown",
      "metadata": {
        "id": "I0WmTyFv0b9D"
      },
      "source": [
        "## Question 9 – Password Strength\n",
        "Write a Python code that checks if a password is strong, medium, or weak based on its length.\n",
        "If the password has fewer than 6 characters it is Weak, if it has 6 to 10 characters it is Medium, and if it has more than 10 characters it is Strong.\n",
        "Print the strength.\n",
        "Run the program with password = 'hello123'."
      ],
      "id": "I0WmTyFv0b9D"
    },
    {
      "cell_type": "code",
      "metadata": {
        "id": "Jm8fu7ft0b9E",
        "colab": {
          "base_uri": "https://localhost:8080/"
        },
        "outputId": "4d90569a-1dde-4704-ab0e-44b293f4dbb8"
      },
      "execution_count": 47,
      "outputs": [
        {
          "output_type": "stream",
          "name": "stdout",
          "text": [
            "Password Strength: Medium\n"
          ]
        }
      ],
      "source": [
        "# write your answer here\n",
        "password = \"hello123\"\n",
        "if len(password) < 6:\n",
        "  print(\"Password Strength: Weak\")\n",
        "elif len(password) < 11:\n",
        "  print(\"Password Strength: Medium\")\n",
        "else:\n",
        "  print(\"password Strength: Strong\")"
      ],
      "id": "Jm8fu7ft0b9E"
    },
    {
      "cell_type": "markdown",
      "metadata": {
        "id": "kgKSm4WB0b9F"
      },
      "source": [
        "## Question 10 – Guest List Checker\n",
        "Write a Python code that creates a list with three invited guests.\n",
        "Define a variable for a guest name.\n",
        "Check if the guest name is in the list.\n",
        "If the guest is in the list print Welcome, and if the guest is not in the list print Not on the list.\n",
        "Run the program with guest = 'Sara'."
      ],
      "id": "kgKSm4WB0b9F"
    },
    {
      "cell_type": "code",
      "metadata": {
        "id": "4pyiTbMT0b9G",
        "colab": {
          "base_uri": "https://localhost:8080/"
        },
        "outputId": "26626b02-14a2-43de-c1cb-a358b1627ee8"
      },
      "execution_count": 51,
      "outputs": [
        {
          "output_type": "stream",
          "name": "stdout",
          "text": [
            "Welcome, Sara\n"
          ]
        }
      ],
      "source": [
        "# write your answer here\n",
        "guest_list = ['Sara', 'Jim', 'Steve']\n",
        "guest = 'Sara'\n",
        "if guest in guest_list:\n",
        "  print(\"Welcome, \" + guest)\n",
        "else:\n",
        "  print(\"Sorry that guest isn't on the list\")"
      ],
      "id": "4pyiTbMT0b9G"
    },
    {
      "cell_type": "code",
      "source": [],
      "metadata": {
        "id": "0lE3_sa3kB_8"
      },
      "id": "0lE3_sa3kB_8",
      "execution_count": null,
      "outputs": []
    }
  ],
  "metadata": {
    "kernelspec": {
      "display_name": "Python 3",
      "language": "python",
      "name": "python3"
    },
    "language_info": {
      "name": "python",
      "version": "3.x"
    },
    "colab": {
      "provenance": [],
      "include_colab_link": true
    }
  },
  "nbformat": 4,
  "nbformat_minor": 5
}