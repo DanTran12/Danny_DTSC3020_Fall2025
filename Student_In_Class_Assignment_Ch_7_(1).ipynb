{
  "nbformat": 4,
  "nbformat_minor": 0,
  "metadata": {
    "colab": {
      "provenance": [],
      "include_colab_link": true
    },
    "kernelspec": {
      "name": "python3",
      "display_name": "Python 3"
    },
    "language_info": {
      "name": "python"
    }
  },
  "cells": [
    {
      "cell_type": "markdown",
      "metadata": {
        "id": "view-in-github",
        "colab_type": "text"
      },
      "source": [
        "<a href=\"https://colab.research.google.com/github/DanTran12/Danny_DTSC3020_Fall2025/blob/main/Student_In_Class_Assignment_Ch_7_(1).ipynb\" target=\"_parent\"><img src=\"https://colab.research.google.com/assets/colab-badge.svg\" alt=\"Open In Colab\"/></a>"
      ]
    },
    {
      "cell_type": "markdown",
      "source": [
        "#Write a Python program that simulates a self-checkout system.**\n",
        "Use this price list: prices: apple= 1 ,  bread= 2.5 ,  milk=5 ,  egg= 6\n",
        "\n",
        "Program requirements:\n",
        "\n",
        "The program should repeatedly ask the user to enter an item name or enter \"pay\".\n",
        "\n",
        "\n",
        "• Valid inputs are the names of the **items above ** or the word \"pay\".\n",
        "\n",
        "\n",
        "If the entered item exists in the price list:\n",
        "\n",
        "• Add its price to the running total.\n",
        "\n",
        "\n",
        "• Print the message: \"Added , running total: $\".\n",
        "\n",
        "\n",
        "If the entered item does not exist in the price list:\n",
        "\n",
        "• Print \"Item not found\".\n",
        "\n",
        "If the user types \"pay\":\n",
        "\n",
        "• Stop asking for input.\n",
        "\n",
        "Show the following three values:\n",
        "\n",
        "\n",
        "**Subtotal: the sum of all valid items entered.**\n",
        "\n",
        "**Tax: 8% of the subtotal. (0.08 * total)**\n",
        "\n",
        "**Final total: subtotal + tax.**\n",
        "\n",
        "\n",
        "Run your program with this purchase list. For example, for one person whose purchase is:apple, pizza, bread, pay *italicised text*"
      ],
      "metadata": {
        "id": "t1xs1X02Owtz"
      }
    },
    {
      "cell_type": "code",
      "execution_count": 9,
      "metadata": {
        "id": "nTH6mvq1OqHP",
        "colab": {
          "base_uri": "https://localhost:8080/"
        },
        "outputId": "7e203099-a65e-457a-d693-e412bf2c66ab"
      },
      "outputs": [
        {
          "output_type": "stream",
          "name": "stdout",
          "text": [
            "Enter a grocery item or 'pay' to receive total: egg\n",
            "Enter a grocery item or 'pay' to receive total: milk\n",
            "Enter a grocery item or 'pay' to receive total: flour\n",
            "Item not in store\n",
            "Enter a grocery item or 'pay' to receive total: apple\n",
            "Enter a grocery item or 'pay' to receive total: pay\n",
            "Subtotal: 12\n",
            "Tax: .08 of subtotal: 0.96\n",
            "Final total: 12.96\n"
          ]
        }
      ],
      "source": [
        "# write your code here\n",
        "cart = True\n",
        "subtotal = 0\n",
        "while cart:\n",
        "  item = input(\"Enter a grocery item or 'pay' to receive total: \")\n",
        "  if item == \"pay\":\n",
        "    cart = False\n",
        "    break\n",
        "  elif item == \"apple\":\n",
        "    subtotal += 1\n",
        "  elif item == \"bread\":\n",
        "    subtotal += 2.5\n",
        "  elif item == \"milk\":\n",
        "    subtotal += 5\n",
        "  elif item == \"egg\":\n",
        "    subtotal += 6\n",
        "  else:\n",
        "    print(\"Item not in store\")\n",
        "print(\"Subtotal:\", subtotal)\n",
        "print(\"Tax: .08 of subtotal:\", subtotal *.08)\n",
        "print(\"Final total:\", subtotal + subtotal*.08)\n",
        ""
      ]
    },
    {
      "cell_type": "code",
      "source": [],
      "metadata": {
        "id": "6D-5fU5P2Vp2"
      },
      "execution_count": null,
      "outputs": []
    }
  ]
}